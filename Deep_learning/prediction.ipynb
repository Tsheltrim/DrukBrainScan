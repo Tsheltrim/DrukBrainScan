{
 "cells": [
  {
   "cell_type": "code",
   "execution_count": 18,
   "id": "0775070c",
   "metadata": {},
   "outputs": [
    {
     "name": "stderr",
     "output_type": "stream",
     "text": [
      "WARNING:absl:Compiled the loaded model, but the compiled metrics have yet to be built. `model.compile_metrics` will be empty until you train or evaluate the model.\n"
     ]
    },
    {
     "name": "stdout",
     "output_type": "stream",
     "text": [
      "\u001b[1m1/1\u001b[0m \u001b[32m━━━━━━━━━━━━━━━━━━━━\u001b[0m\u001b[37m\u001b[0m \u001b[1m0s\u001b[0m 137ms/step\n",
      "Predicted Label: No\n",
      "Probability: 0.2587918\n"
     ]
    }
   ],
   "source": [
    "import numpy as np\n",
    "from tensorflow.keras.preprocessing import image\n",
    "from tensorflow.keras.models import load_model\n",
    "\n",
    "# Define the path to the image file\n",
    "image_path = \"test2.jpg\"\n",
    "\n",
    "# Define the ground truth label for the test image\n",
    "true_label = \"Yes\" \n",
    "\n",
    "# Load the trained model\n",
    "model_path = \"model.h5\"\n",
    "model = load_model(model_path)\n",
    "\n",
    "# Function to predict the class of an unseen image\n",
    "def predict_image(image_path):\n",
    "    img = image.load_img(image_path, target_size=(224, 224))\n",
    "    img_array = image.img_to_array(img)\n",
    "    img_array = np.expand_dims(img_array, axis=0) \n",
    "    img_array /= 255.0  \n",
    "    \n",
    "    # Make prediction\n",
    "    prediction = model.predict(img_array)\n",
    "    probability = prediction[0][0]\n",
    "    label = \"Yes\" if probability > 0.5 else \"No\"\n",
    "    \n",
    "    return label, probability\n",
    "\n",
    "# Make prediction for the image\n",
    "predicted_label, probability = predict_image(image_path)\n",
    "print(\"Predicted Label:\", predicted_label)\n",
    "print(\"Probability:\", probability)"
   ]
  },
  {
   "cell_type": "code",
   "execution_count": 19,
   "id": "0811e5ae",
   "metadata": {},
   "outputs": [
    {
     "name": "stderr",
     "output_type": "stream",
     "text": [
      "WARNING:absl:Compiled the loaded model, but the compiled metrics have yet to be built. `model.compile_metrics` will be empty until you train or evaluate the model.\n"
     ]
    },
    {
     "name": "stdout",
     "output_type": "stream",
     "text": [
      "\u001b[1m1/1\u001b[0m \u001b[32m━━━━━━━━━━━━━━━━━━━━\u001b[0m\u001b[37m\u001b[0m \u001b[1m0s\u001b[0m 138ms/step\n",
      "Predicted Label: Yes\n",
      "Probability: 0.99966496\n"
     ]
    }
   ],
   "source": [
    "import numpy as np\n",
    "from tensorflow.keras.preprocessing import image\n",
    "from tensorflow.keras.models import load_model\n",
    "\n",
    "# Define the path to the image file\n",
    "image_path = \"testData.jpg\"\n",
    "\n",
    "# Define the ground truth label for the test image\n",
    "true_label = \"Yes\"  \n",
    "\n",
    "# Load the trained model\n",
    "model_path = \"model.h5\"\n",
    "model = load_model(model_path)\n",
    "\n",
    "# Function to predict the class of an unseen image\n",
    "def predict_image(image_path):\n",
    "    img = image.load_img(image_path, target_size=(224, 224))\n",
    "    img_array = image.img_to_array(img)\n",
    "    img_array = np.expand_dims(img_array, axis=0)  \n",
    "    img_array /= 255.0  \n",
    "    \n",
    "    # Make prediction\n",
    "    prediction = model.predict(img_array)\n",
    "    probability = prediction[0][0]\n",
    "    label = \"Yes\" if probability > 0.5 else \"No\"\n",
    "    \n",
    "    return label, probability\n",
    "\n",
    "# Make prediction for the image\n",
    "predicted_label, probability = predict_image(image_path)\n",
    "print(\"Predicted Label:\", predicted_label)\n",
    "print(\"Probability:\", probability)"
   ]
  },
  {
   "cell_type": "code",
   "execution_count": null,
   "id": "1c5e02b0",
   "metadata": {},
   "outputs": [],
   "source": []
  }
 ],
 "metadata": {
  "kernelspec": {
   "display_name": "Python 3 (ipykernel)",
   "language": "python",
   "name": "python3"
  },
  "language_info": {
   "codemirror_mode": {
    "name": "ipython",
    "version": 3
   },
   "file_extension": ".py",
   "mimetype": "text/x-python",
   "name": "python",
   "nbconvert_exporter": "python",
   "pygments_lexer": "ipython3",
   "version": "3.11.5"
  }
 },
 "nbformat": 4,
 "nbformat_minor": 5
}
